{
 "cells": [
  {
   "cell_type": "markdown",
   "id": "a0a1e25e-31ac-48a2-844c-c0b00b6090be",
   "metadata": {},
   "source": [
    "# Spatial Analysis of York Region Coyote Sightings"
   ]
  },
  {
   "cell_type": "markdown",
   "id": "f53ccfba-3e57-4259-b38a-bda1c67c73c7",
   "metadata": {},
   "source": [
    "### Data - Gathering and Preprocessing"
   ]
  },
  {
   "cell_type": "markdown",
   "id": "82fefd8e-8dbe-4890-b06d-b3de59b0b76e",
   "metadata": {},
   "source": [
    "Data for the Coyote Sightings was obtained from the article by York Region.com. Link Below:\n",
    "__https://www.yorkregion.com/news/map-coyote-sightings-in-york-region/article_d28bd4fe-a941-58db-8435-5c63c6be46a1.html__\n",
    "\n",
    "Data for the Dissemination Areas (DA) was obtained from the 2021 Boundary Files through the Government of Canada. Link Below:\n",
    "__https://www12.statcan.gc.ca/census-recensement/2021/geo/sip-pis/boundary-limites/index-eng.cfm__\n",
    "\n",
    "Preprocessing of the Census and Sighting Data was completed using QGIS. The census data was processed to only include the Dissemination Areas that fall within York Region. The Coyote Sighting Data was loaded into QGIS to obtain an improved understanding of its fields and rows."
   ]
  },
  {
   "cell_type": "code",
   "execution_count": 31,
   "id": "13da63e1-9067-4181-92cc-ddf20b8a3610",
   "metadata": {},
   "outputs": [],
   "source": [
    "options(warn=1)"
   ]
  },
  {
   "cell_type": "code",
   "execution_count": 32,
   "id": "10417361-9ee9-4069-b90f-61e2aedd586b",
   "metadata": {},
   "outputs": [],
   "source": [
    "#import required libraries\n",
    "library(rgdal)\n",
    "library(sp)\n",
    "library(spatstat)\n",
    "library(sf)\n",
    "library(ggplot2)\n",
    "library(ggmap)\n",
    "library(ggspatial)\n",
    "library(patchwork)\n",
    "library(maptools)\n",
    "library(tmap)"
   ]
  },
  {
   "cell_type": "markdown",
   "id": "38531b66-04dc-4eb5-a15d-43653276b027",
   "metadata": {},
   "source": [
    "### Areal Unit Count\n",
    "\n",
    "Areal units are used to breakdown York region into smaller areas that visualize the dsitribution of coyote sightings. Dissemination Areas were chosen over Forward Sortation Areas due to their specificity of remaining within the Region's borders"
   ]
  },
  {
   "cell_type": "code",
   "execution_count": 33,
   "id": "ea364d7b-9442-4566-a489-50b3feb836d2",
   "metadata": {},
   "outputs": [
    {
     "name": "stderr",
     "output_type": "stream",
     "text": [
      "Warning message:\n",
      "\"OGR support is provided by the sf and terra packages among others\"\n",
      "Warning message:\n",
      "\"OGR support is provided by the sf and terra packages among others\"\n",
      "Warning message:\n",
      "\"OGR support is provided by the sf and terra packages among others\"\n",
      "Warning message:\n",
      "\"OGR support is provided by the sf and terra packages among others\"\n",
      "Warning message:\n",
      "\"OGR support is provided by the sf and terra packages among others\"\n",
      "Warning message:\n",
      "\"OGR support is provided by the sf and terra packages among others\"\n"
     ]
    },
    {
     "name": "stdout",
     "output_type": "stream",
     "text": [
      "OGR data source with driver: ESRI Shapefile \n",
      "Source: \"C:\\Users\\johns\\Desktop\\Side Projects\\Coyote Sighting\\NotebookData\\2019 York Region Coyote Sighting.shp\", layer: \"2019 York Region Coyote Sighting\"\n",
      "with 52 features\n",
      "It has 15 fields\n",
      "Integer64 fields read as strings:  tessellate extrude visibility drawOrder Year \n"
     ]
    },
    {
     "name": "stderr",
     "output_type": "stream",
     "text": [
      "Warning message:\n",
      "\"OGR support is provided by the sf and terra packages among others\"\n",
      "Warning message:\n",
      "\"OGR support is provided by the sf and terra packages among others\"\n",
      "Warning message:\n",
      "\"OGR support is provided by the sf and terra packages among others\"\n",
      "Warning message:\n",
      "\"OGR support is provided by the sf and terra packages among others\"\n",
      "Warning message:\n",
      "\"OGR support is provided by the sf and terra packages among others\"\n",
      "Warning message:\n",
      "\"OGR support is provided by the sf and terra packages among others\"\n"
     ]
    },
    {
     "name": "stdout",
     "output_type": "stream",
     "text": [
      "OGR data source with driver: ESRI Shapefile \n",
      "Source: \"C:\\Users\\johns\\Desktop\\Side Projects\\Coyote Sighting\\NotebookData\\2020 York Region Coyote Sighting.shp\", layer: \"2020 York Region Coyote Sighting\"\n",
      "with 156 features\n",
      "It has 13 fields\n",
      "Integer64 fields read as strings:  tessellate extrude visibility drawOrder Year \n"
     ]
    },
    {
     "name": "stderr",
     "output_type": "stream",
     "text": [
      "Warning message:\n",
      "\"OGR support is provided by the sf and terra packages among others\"\n",
      "Warning message:\n",
      "\"OGR support is provided by the sf and terra packages among others\"\n",
      "Warning message:\n",
      "\"OGR support is provided by the sf and terra packages among others\"\n",
      "Warning message:\n",
      "\"OGR support is provided by the sf and terra packages among others\"\n",
      "Warning message:\n",
      "\"OGR support is provided by the sf and terra packages among others\"\n",
      "Warning message:\n",
      "\"OGR support is provided by the sf and terra packages among others\"\n"
     ]
    },
    {
     "name": "stdout",
     "output_type": "stream",
     "text": [
      "OGR data source with driver: ESRI Shapefile \n",
      "Source: \"C:\\Users\\johns\\Desktop\\Side Projects\\Coyote Sighting\\NotebookData\\2021 York Region Coyote Sighting.shp\", layer: \"2021 York Region Coyote Sighting\"\n",
      "with 120 features\n",
      "It has 13 fields\n",
      "Integer64 fields read as strings:  tessellate extrude visibility drawOrder Year \n"
     ]
    },
    {
     "name": "stderr",
     "output_type": "stream",
     "text": [
      "Warning message:\n",
      "\"OGR support is provided by the sf and terra packages among others\"\n",
      "Warning message:\n",
      "\"OGR support is provided by the sf and terra packages among others\"\n",
      "Warning message:\n",
      "\"OGR support is provided by the sf and terra packages among others\"\n",
      "Warning message:\n",
      "\"OGR support is provided by the sf and terra packages among others\"\n",
      "Warning message:\n",
      "\"OGR support is provided by the sf and terra packages among others\"\n",
      "Warning message:\n",
      "\"OGR support is provided by the sf and terra packages among others\"\n"
     ]
    },
    {
     "name": "stdout",
     "output_type": "stream",
     "text": [
      "OGR data source with driver: ESRI Shapefile \n",
      "Source: \"C:\\Users\\johns\\Desktop\\Side Projects\\Coyote Sighting\\NotebookData\\2022 York Region Coyote Sighting.shp\", layer: \"2022 York Region Coyote Sighting\"\n",
      "with 211 features\n",
      "It has 13 fields\n",
      "Integer64 fields read as strings:  tessellate extrude visibility drawOrder Year \n"
     ]
    },
    {
     "name": "stderr",
     "output_type": "stream",
     "text": [
      "Warning message:\n",
      "\"OGR support is provided by the sf and terra packages among others\"\n",
      "Warning message:\n",
      "\"OGR support is provided by the sf and terra packages among others\"\n",
      "Warning message:\n",
      "\"OGR support is provided by the sf and terra packages among others\"\n",
      "Warning message:\n",
      "\"OGR support is provided by the sf and terra packages among others\"\n",
      "Warning message:\n",
      "\"OGR support is provided by the sf and terra packages among others\"\n",
      "Warning message:\n",
      "\"OGR support is provided by the sf and terra packages among others\"\n"
     ]
    },
    {
     "name": "stdout",
     "output_type": "stream",
     "text": [
      "OGR data source with driver: ESRI Shapefile \n",
      "Source: \"C:\\Users\\johns\\Desktop\\Side Projects\\Coyote Sighting\\NotebookData\\2023 York Region Coyote Sighting.shp\", layer: \"2023 York Region Coyote Sighting\"\n",
      "with 101 features\n",
      "It has 13 fields\n",
      "Integer64 fields read as strings:  tessellate extrude visibility drawOrder Year \n"
     ]
    },
    {
     "name": "stderr",
     "output_type": "stream",
     "text": [
      "Warning message:\n",
      "\"OGR support is provided by the sf and terra packages among others\"\n",
      "Warning message:\n",
      "\"OGR support is provided by the sf and terra packages among others\"\n",
      "Warning message:\n",
      "\"OGR support is provided by the sf and terra packages among others\"\n",
      "Warning message:\n",
      "\"OGR support is provided by the sf and terra packages among others\"\n",
      "Warning message:\n",
      "\"OGR support is provided by the sf and terra packages among others\"\n",
      "Warning message:\n",
      "\"OGR support is provided by the sf and terra packages among others\"\n"
     ]
    },
    {
     "name": "stdout",
     "output_type": "stream",
     "text": [
      "OGR data source with driver: ESRI Shapefile \n",
      "Source: \"C:\\Users\\johns\\Desktop\\Side Projects\\Coyote Sighting\\NotebookData\\YorkRegionDA.shp\", layer: \"YorkRegionDA\"\n",
      "with 1184 features\n",
      "It has 4 fields\n"
     ]
    }
   ],
   "source": [
    "#Reads in shapefiles\n",
    "Sightings2019 <- readOGR(\"2019 York Region Coyote Sighting.shp\", \"2019 York Region Coyote Sighting\")\n",
    "Sightings2020 <- readOGR(\"2020 York Region Coyote Sighting.shp\", \"2020 York Region Coyote Sighting\")\n",
    "Sightings2021 <- readOGR(\"2021 York Region Coyote Sighting.shp\", \"2021 York Region Coyote Sighting\")\n",
    "Sightings2022 <- readOGR(\"2022 York Region Coyote Sighting.shp\", \"2022 York Region Coyote Sighting\")\n",
    "Sightings2023 <- readOGR(\"2023 York Region Coyote Sighting.shp\", \"2023 York Region Coyote Sighting\")\n",
    "DA <- readOGR(\"YorkRegionDA.shp\", \"YorkRegionDA\")"
   ]
  },
  {
   "cell_type": "code",
   "execution_count": 34,
   "id": "da70febf-a9b3-48b9-82e7-af03332b0d30",
   "metadata": {},
   "outputs": [
    {
     "name": "stderr",
     "output_type": "stream",
     "text": [
      "\u001b[1m\u001b[22mRegions defined for each Polygons\n",
      "Using plotunit = 'm'\n",
      "\n"
     ]
    },
    {
     "data": {
      "image/png": "[encoded data removed]",
      "text/plain": [
       "plot without title"
      ]
     },
     "metadata": {
      "image/png": {
       "height": 420,
       "width": 420
      }
     },
     "output_type": "display_data"
    }
   ],
   "source": [
    "#Plot the Dissemination Area Shapefile\n",
    "DA_data <- fortify (DA)\n",
    "Sightings2019_data <- data.frame(Sightings2019)\n",
    "Sightings2020_data <- data.frame(Sightings2020)\n",
    "Sightings2021_data <- data.frame(Sightings2021)\n",
    "Sightings2022_data <- data.frame(Sightings2022)\n",
    "Sightings2023_data <- data.frame(Sightings2023)\n",
    "\n",
    "g <- ggplot() + geom_polygon(data = DA_data, aes(x=long, y=lat, group = group), colour =\"black\", fill =\"green\") + xlab(\"Longitude\") + ylab(\"latitude\") + ggtitle(\"York Region Dissemination Areas\") + annotation_scale(location = \"bl\", width_hint = 0.5)\n",
    "plot(g)"
   ]
  },
  {
   "cell_type": "code",
   "execution_count": 35,
   "id": "e3369f4c-8d31-4d9b-a26e-8c51aa8216ff",
   "metadata": {},
   "outputs": [],
   "source": [
    "Sightings19_DA <- over(Sightings2019, DA)\n",
    "Sightings20_DA <- over(Sightings2020, DA)\n",
    "Sightings21_DA <- over(Sightings2021, DA)\n",
    "Sightings22_DA <- over(Sightings2022, DA)\n",
    "Sightings23_DA <- over(Sightings2023, DA)\n",
    "\n",
    "Sightings19_DA_tabulation <- table(Sightings19_DA$DAUID)\n",
    "Sightings20_DA_tabulation <- table(Sightings20_DA$DAUID)\n",
    "Sightings21_DA_tabulation <- table(Sightings21_DA$DAUID)\n",
    "Sightings22_DA_tabulation <- table(Sightings22_DA$DAUID)\n",
    "Sightings23_DA_tabulation <- table(Sightings23_DA$DAUID)\n",
    "#print(Sightings19_DA_tabulation)\n"
   ]
  },
  {
   "cell_type": "code",
   "execution_count": 19,
   "id": "1c836ba1-a8a7-484c-8122-ecb1eb89c235",
   "metadata": {},
   "outputs": [
    {
     "name": "stdout",
     "output_type": "stream",
     "text": [
      "[1] \"2019\"\n",
      "[1] \"Total Number of Dissemination Areas = 1184 .\"\n",
      "[1] \"Total number of Coyote Sightings in 2019 = 52 .\"\n",
      "[1] \"Number of Dissemination Areas with Coyote Sightings = 44 .\"\n",
      "[1] \"Number of Dissemination Areas without Coyote Sightings = 1140 .\"\n",
      "[1] \"2019 end\"\n",
      "[1] \"2020\"\n",
      "[1] \"Total Number of Dissemination Areas = 1184 .\"\n",
      "[1] \"Total number of Coyote Sightings in 2020 = 156 .\"\n",
      "[1] \"Number of Dissemination Areas with Coyote Sightings = 109 .\"\n",
      "[1] \"Number of Dissemination Areas without Coyote Sightings = 1075 .\"\n",
      "[1] \"2020 end\"\n",
      "[1] \"2021\"\n",
      "[1] \"Total Number of Dissemination Areas = 1184 .\"\n",
      "[1] \"Total number of Coyote Sightings in 2021 = 120 .\"\n",
      "[1] \"Number of Dissemination Areas with Coyote Sightings = 94 .\"\n",
      "[1] \"Number of Dissemination Areas without Coyote Sightings = 1090 .\"\n",
      "[1] \"2021 end\"\n",
      "[1] \"2022\"\n",
      "[1] \"Total Number of Dissemination Areas = 1184 .\"\n",
      "[1] \"Total number of Coyote Sightings in 2022 = 211 .\"\n",
      "[1] \"Number of Dissemination Areas with Coyote Sightings = 146 .\"\n",
      "[1] \"Number of Dissemination Areas without Coyote Sightings = 1038 .\"\n",
      "[1] \"2022 end\"\n",
      "[1] \"2023\"\n",
      "[1] \"Total Number of Dissemination Areas = 1184 .\"\n",
      "[1] \"Total number of Coyote Sightings in 2023 = 101 .\"\n",
      "[1] \"Number of Dissemination Areas with Coyote Sightings = 77 .\"\n",
      "[1] \"Number of Dissemination Areas without Coyote Sightings = 1107 .\"\n",
      "[1] \"2023 end\"\n"
     ]
    }
   ],
   "source": [
    "#2019\n",
    "print(\"2019\")\n",
    "print(paste(\"Total Number of Dissemination Areas =\", nrow(DA), \".\"))\n",
    "print(paste(\"Total number of Coyote Sightings in 2019 =\",nrow(Sightings2019), \".\"))\n",
    "print(paste(\"Number of Dissemination Areas with Coyote Sightings =\", nrow(Sightings19_DA_tabulation), \".\"))\n",
    "print(paste(\"Number of Dissemination Areas without Coyote Sightings =\", nrow(DA) - nrow(Sightings19_DA_tabulation), \".\"))\n",
    "print(\"2019 end\")\n",
    "\n",
    "#2020\n",
    "print(\"2020\")\n",
    "print(paste(\"Total Number of Dissemination Areas =\", nrow(DA), \".\"))\n",
    "print(paste(\"Total number of Coyote Sightings in 2020 =\",nrow(Sightings2020), \".\"))\n",
    "print(paste(\"Number of Dissemination Areas with Coyote Sightings =\", nrow(Sightings20_DA_tabulation), \".\"))\n",
    "print(paste(\"Number of Dissemination Areas without Coyote Sightings =\", nrow(DA) - nrow(Sightings20_DA_tabulation), \".\"))\n",
    "print(\"2020 end\")\n",
    "#2021\n",
    "print(\"2021\")\n",
    "print(paste(\"Total Number of Dissemination Areas =\", nrow(DA), \".\"))\n",
    "print(paste(\"Total number of Coyote Sightings in 2021 =\",nrow(Sightings2021), \".\"))\n",
    "print(paste(\"Number of Dissemination Areas with Coyote Sightings =\", nrow(Sightings21_DA_tabulation), \".\"))\n",
    "print(paste(\"Number of Dissemination Areas without Coyote Sightings =\", nrow(DA) - nrow(Sightings21_DA_tabulation), \".\"))\n",
    "print(\"2021 end\")\n",
    "#2022\n",
    "print(\"2022\")\n",
    "print(paste(\"Total Number of Dissemination Areas =\", nrow(DA), \".\"))\n",
    "print(paste(\"Total number of Coyote Sightings in 2022 =\",nrow(Sightings2022), \".\"))\n",
    "print(paste(\"Number of Dissemination Areas with Coyote Sightings =\", nrow(Sightings22_DA_tabulation), \".\"))\n",
    "print(paste(\"Number of Dissemination Areas without Coyote Sightings =\", nrow(DA) - nrow(Sightings22_DA_tabulation), \".\"))\n",
    "print(\"2022 end\")\n",
    "#2023\n",
    "print(\"2023\")\n",
    "print(paste(\"Total Number of Dissemination Areas =\", nrow(DA), \".\"))\n",
    "print(paste(\"Total number of Coyote Sightings in 2023 =\",nrow(Sightings2023), \".\"))\n",
    "print(paste(\"Number of Dissemination Areas with Coyote Sightings =\", nrow(Sightings23_DA_tabulation), \".\"))\n",
    "print(paste(\"Number of Dissemination Areas without Coyote Sightings =\", nrow(DA) - nrow(Sightings23_DA_tabulation), \".\"))\n",
    "print(\"2023 end\")"
   ]
  },
  {
   "cell_type": "code",
   "execution_count": 36,
   "id": "bcf5c872-4af2-4c16-9777-b026f1413648",
   "metadata": {},
   "outputs": [
    {
     "data": {
      "text/plain": [
       "Object of class SpatialPolygonsDataFrame\n",
       "Coordinates:\n",
       "      min     max\n",
       "x  598190  647177\n",
       "y 4844989 4924444\n",
       "Is projected: TRUE \n",
       "proj4string :\n",
       "[+proj=utm +zone=17 +datum=NAD83 +units=m +no_defs]\n",
       "Data attributes:\n",
       "    DAUID              DGUID              LANDAREA          PRUID          \n",
       " Length:1184        Length:1184        Min.   : 0.0000   Length:1184       \n",
       " Class :character   Class :character   1st Qu.: 0.0000   Class :character  \n",
       " Mode  :character   Mode  :character   Median : 0.0000   Mode  :character  \n",
       "                                       Mean   : 0.1747                     \n",
       "                                       3rd Qu.: 0.0000                     \n",
       "                                       Max.   :32.5521                     \n",
       " Sightings2019Count\n",
       " Min.   :0.00000   \n",
       " 1st Qu.:0.00000   \n",
       " Median :0.00000   \n",
       " Mean   :0.04392   \n",
       " 3rd Qu.:0.00000   \n",
       " Max.   :4.00000   "
      ]
     },
     "metadata": {},
     "output_type": "display_data"
    },
    {
     "data": {
      "text/plain": [
       "Object of class SpatialPolygonsDataFrame\n",
       "Coordinates:\n",
       "      min     max\n",
       "x  598190  647177\n",
       "y 4844989 4924444\n",
       "Is projected: TRUE \n",
       "proj4string :\n",
       "[+proj=utm +zone=17 +datum=NAD83 +units=m +no_defs]\n",
       "Data attributes:\n",
       "    DAUID              DGUID              LANDAREA          PRUID          \n",
       " Length:1184        Length:1184        Min.   : 0.0000   Length:1184       \n",
       " Class :character   Class :character   1st Qu.: 0.0000   Class :character  \n",
       " Mode  :character   Mode  :character   Median : 0.0000   Mode  :character  \n",
       "                                       Mean   : 0.2125                     \n",
       "                                       3rd Qu.: 0.0000                     \n",
       "                                       Max.   :26.5021                     \n",
       " Sightings2020Count\n",
       " Min.   :0.0000    \n",
       " 1st Qu.:0.0000    \n",
       " Median :0.0000    \n",
       " Mean   :0.1318    \n",
       " 3rd Qu.:0.0000    \n",
       " Max.   :6.0000    "
      ]
     },
     "metadata": {},
     "output_type": "display_data"
    },
    {
     "data": {
      "text/plain": [
       "Object of class SpatialPolygonsDataFrame\n",
       "Coordinates:\n",
       "      min     max\n",
       "x  598190  647177\n",
       "y 4844989 4924444\n",
       "Is projected: TRUE \n",
       "proj4string :\n",
       "[+proj=utm +zone=17 +datum=NAD83 +units=m +no_defs]\n",
       "Data attributes:\n",
       "    DAUID              DGUID              LANDAREA          PRUID          \n",
       " Length:1184        Length:1184        Min.   : 0.0000   Length:1184       \n",
       " Class :character   Class :character   1st Qu.: 0.0000   Class :character  \n",
       " Mode  :character   Mode  :character   Median : 0.0000   Mode  :character  \n",
       "                                       Mean   : 0.1013                     \n",
       "                                       3rd Qu.: 0.0000                     \n",
       "                                       Max.   :19.2182                     \n",
       " Sightings2021Count\n",
       " Min.   :0.0000    \n",
       " 1st Qu.:0.0000    \n",
       " Median :0.0000    \n",
       " Mean   :0.1014    \n",
       " 3rd Qu.:0.0000    \n",
       " Max.   :6.0000    "
      ]
     },
     "metadata": {},
     "output_type": "display_data"
    },
    {
     "data": {
      "text/plain": [
       "Object of class SpatialPolygonsDataFrame\n",
       "Coordinates:\n",
       "      min     max\n",
       "x  598190  647177\n",
       "y 4844989 4924444\n",
       "Is projected: TRUE \n",
       "proj4string :\n",
       "[+proj=utm +zone=17 +datum=NAD83 +units=m +no_defs]\n",
       "Data attributes:\n",
       "    DAUID              DGUID              LANDAREA          PRUID          \n",
       " Length:1184        Length:1184        Min.   : 0.0000   Length:1184       \n",
       " Class :character   Class :character   1st Qu.: 0.0000   Class :character  \n",
       " Mode  :character   Mode  :character   Median : 0.0000   Mode  :character  \n",
       "                                       Mean   : 0.3598                     \n",
       "                                       3rd Qu.: 0.0000                     \n",
       "                                       Max.   :41.3266                     \n",
       " Sightings2022Count\n",
       " Min.   : 0.0000   \n",
       " 1st Qu.: 0.0000   \n",
       " Median : 0.0000   \n",
       " Mean   : 0.1782   \n",
       " 3rd Qu.: 0.0000   \n",
       " Max.   :10.0000   "
      ]
     },
     "metadata": {},
     "output_type": "display_data"
    },
    {
     "data": {
      "text/plain": [
       "Object of class SpatialPolygonsDataFrame\n",
       "Coordinates:\n",
       "      min     max\n",
       "x  598190  647177\n",
       "y 4844989 4924444\n",
       "Is projected: TRUE \n",
       "proj4string :\n",
       "[+proj=utm +zone=17 +datum=NAD83 +units=m +no_defs]\n",
       "Data attributes:\n",
       "    DAUID              DGUID              LANDAREA          PRUID          \n",
       " Length:1184        Length:1184        Min.   : 0.0000   Length:1184       \n",
       " Class :character   Class :character   1st Qu.: 0.0000   Class :character  \n",
       " Mode  :character   Mode  :character   Median : 0.0000   Mode  :character  \n",
       "                                       Mean   : 0.1939                     \n",
       "                                       3rd Qu.: 0.0000                     \n",
       "                                       Max.   :30.0523                     \n",
       " Sightings2023Count\n",
       " Min.   :0.00000   \n",
       " 1st Qu.:0.00000   \n",
       " Median :0.00000   \n",
       " Mean   :0.08446   \n",
       " 3rd Qu.:0.00000   \n",
       " Max.   :6.00000   "
      ]
     },
     "metadata": {},
     "output_type": "display_data"
    }
   ],
   "source": [
    "Sightings19_DA_df <- data.frame(Sightings19_DA_tabulation)\n",
    "Sightings20_DA_df <- data.frame(Sightings20_DA_tabulation)\n",
    "Sightings21_DA_df <- data.frame(Sightings21_DA_tabulation)\n",
    "Sightings22_DA_df <- data.frame(Sightings22_DA_tabulation)\n",
    "Sightings23_DA_df <- data.frame(Sightings23_DA_tabulation)\n",
    "\n",
    "colnames(Sightings19_DA_df) <- c(\"DAUID\", \"Sightings2019Count\")\n",
    "colnames(Sightings20_DA_df) <- c(\"DAUID\", \"Sightings2020Count\")\n",
    "colnames(Sightings21_DA_df) <- c(\"DAUID\", \"Sightings2021Count\")\n",
    "colnames(Sightings22_DA_df) <- c(\"DAUID\", \"Sightings2022Count\")\n",
    "colnames(Sightings23_DA_df) <- c(\"DAUID\", \"Sightings2023Count\")\n",
    "\n",
    "mergeData19 <- merge(x=DA, y=Sightings19_DA_df, by.x = c(\"DAUID\"), by.y = c(\"DAUID\"), all = TRUE)\n",
    "mergeData20 <- merge(x=DA, y=Sightings20_DA_df, by.x = c(\"DAUID\"), by.y = c(\"DAUID\"), all = TRUE)\n",
    "mergeData21 <- merge(x=DA, y=Sightings21_DA_df, by.x = c(\"DAUID\"), by.y = c(\"DAUID\"), all = TRUE)\n",
    "mergeData22 <- merge(x=DA, y=Sightings22_DA_df, by.x = c(\"DAUID\"), by.y = c(\"DAUID\"), all = TRUE)\n",
    "mergeData23 <- merge(x=DA, y=Sightings23_DA_df, by.x = c(\"DAUID\"), by.y = c(\"DAUID\"), all = TRUE)\n",
    "\n",
    "mergeData19[is.na(mergeData19$Sightings2019Count)] <- 0\n",
    "mergeData20[is.na(mergeData20$Sightings2020Count)] <- 0\n",
    "mergeData21[is.na(mergeData21$Sightings2021Count)] <- 0\n",
    "mergeData22[is.na(mergeData22$Sightings2022Count)] <- 0\n",
    "mergeData23[is.na(mergeData23$Sightings2023Count)] <- 0\n",
    "\n",
    "summary(mergeData19)\n",
    "summary(mergeData20)\n",
    "summary(mergeData21)\n",
    "summary(mergeData22)\n",
    "summary(mergeData23)\n",
    "\n",
    "#print(Sightings19_DA_df)"
   ]
  },
  {
   "cell_type": "code",
   "execution_count": 58,
   "id": "9467e9dc-e7de-446a-aafd-8f4694d9d66e",
   "metadata": {},
   "outputs": [
    {
     "name": "stderr",
     "output_type": "stream",
     "text": [
      "Map saved to C:\\Users\\johns\\Desktop\\Side Projects\\Coyote Sighting\\NotebookData\\2019 - 2023 Sighting Heat Map.png\n",
      "\n",
      "Resolution: 14400 by 14400 pixels\n",
      "\n",
      "Size: 12 by 12 inches (1200 dpi)\n",
      "\n"
     ]
    }
   ],
   "source": [
    "#print(mergeData)\n",
    "#Map the sighting data\n",
    "map2019 <- tm_shape(mergeData19) + tm_polygons(\"Sightings2019Count\", style=\"cat\", title=\"Count of 2019 Coyote Sightings\\nby Dissemination Area\") + tm_legend(outside = TRUE) + tm_compass(north = 0, position = 'left') + tm_scale_bar()\n",
    "map2020 <- tm_shape(mergeData20) + tm_polygons(\"Sightings2020Count\", style=\"cat\", title=\"Count of 2020 Coyote Sightings\\nby Dissemination Area\") + tm_legend(outside = TRUE) + tm_compass(north = 0, position = 'left') + tm_scale_bar()\n",
    "map2021 <- tm_shape(mergeData21) + tm_polygons(\"Sightings2021Count\", style=\"cat\", title=\"Count of 2021 Coyote Sightings\\nby Dissemination Area\") + tm_legend(outside = TRUE) + tm_compass(north = 0, position = 'left') + tm_scale_bar()\n",
    "map2022 <- tm_shape(mergeData22) + tm_polygons(\"Sightings2022Count\", style=\"cat\", title=\"Count of 2022 Coyote Sightings\\nby Dissemination Area\") + tm_legend(outside = TRUE) + tm_compass(north = 0, position = 'left') + tm_scale_bar()\n",
    "map2023 <- tm_shape(mergeData23) + tm_polygons(\"Sightings2023Count\", style=\"cat\", title=\"Count of 2023 Coyote Sightings\\nby Dissemination Area\") + tm_legend(outside = TRUE) + tm_compass(north = 0, position = 'left') + tm_scale_bar()\n",
    "\n",
    "maps = tmap_arrange(map2019, map2020, map2021, map2022, map2023)\n",
    "tmap_save(maps, \"2019 - 2023 Sighting Heat Map.png\", height = 12, width =12 , units = \"in\", dpi = 1200)"
   ]
  },
  {
   "cell_type": "markdown",
   "id": "39040a8d-8dce-4250-93fc-907f86cb33c7",
   "metadata": {},
   "source": [
    "### Calculating Moran's I Statistic\n",
    "\n",
    "Moran's I is a statistic that describes spatial autocorrelation, the resulting value ranges between -1 to 1. Values closer to -1 show that there is clustering of unalike values. Whereas, values closer to 1 show that there is clustering of alike values. Results closer to 0 signify that there is little to no autocorrelation."
   ]
  },
  {
   "cell_type": "code",
   "execution_count": 39,
   "id": "6b66ca1a-84a2-4f29-86e7-ff61ff543537",
   "metadata": {},
   "outputs": [
    {
     "name": "stderr",
     "output_type": "stream",
     "text": [
      "Warning message:\n",
      "\"package 'spdep' is in use and will not be installed\"\n"
     ]
    },
    {
     "name": "stdout",
     "output_type": "stream",
     "text": [
      "\n",
      "  There is a binary version available but the source version is later:\n",
      "     binary   source needs_compilation\n",
      "Rcpp 1.0.10 1.0.13-1              TRUE\n",
      "\n",
      "  Binaries will be installed\n",
      "package 'Rcpp' successfully unpacked and MD5 sums checked\n"
     ]
    },
    {
     "name": "stderr",
     "output_type": "stream",
     "text": [
      "Warning message:\n",
      "\"cannot remove prior installation of package 'Rcpp'\"\n",
      "Warning message in file.copy(savedcopy, lib, recursive = TRUE):\n",
      "\"problem copying C:\\Users\\johns\\anaconda3\\envs\\r-studio\\Lib\\R\\library\\00LOCK\\Rcpp\\libs\\x64\\Rcpp.dll to C:\\Users\\johns\\anaconda3\\envs\\r-studio\\Lib\\R\\library\\Rcpp\\libs\\x64\\Rcpp.dll: Permission denied\"\n",
      "Warning message:\n",
      "\"restored 'Rcpp'\"\n"
     ]
    },
    {
     "name": "stdout",
     "output_type": "stream",
     "text": [
      "\n",
      "The downloaded binary packages are in\n",
      "\tC:\\Users\\johns\\AppData\\Local\\Temp\\RtmpUNQagp\\downloaded_packages\n"
     ]
    }
   ],
   "source": [
    "#Install Packages\n",
    "install.packages(\"spdep\")\n",
    "install.packages(\"Rcpp\")\n",
    "library(spdep)"
   ]
  },
  {
   "cell_type": "code",
   "execution_count": 40,
   "id": "318004a7-9ee3-4699-ad8c-c00e41769d67",
   "metadata": {},
   "outputs": [],
   "source": [
    "#Calculate the neighbouring polygons for all merged data\n",
    "Sightings2019_DA_nb<-poly2nb(mergeData19, queen = TRUE)\n",
    "Sightings2020_DA_nb<-poly2nb(mergeData20, queen = TRUE)\n",
    "Sightings2021_DA_nb<-poly2nb(mergeData21, queen = TRUE)\n",
    "Sightings2022_DA_nb<-poly2nb(mergeData22, queen = TRUE)\n",
    "Sightings2023_DA_nb<-poly2nb(mergeData23, queen = TRUE)"
   ]
  },
  {
   "cell_type": "code",
   "execution_count": 76,
   "id": "b333aafa-5a44-44a9-98b0-e5fda0142c5c",
   "metadata": {},
   "outputs": [],
   "source": [
    "#DA_NB_list <- nb2listw(Sightings2019_DA_nb, zero.policy = TRUE)"
   ]
  },
  {
   "cell_type": "code",
   "execution_count": 41,
   "id": "5ce24553-65dc-489e-a7f7-c50f69060678",
   "metadata": {},
   "outputs": [
    {
     "data": {
      "text/html": [
       "<ol>\n",
       "\t<li>1</li>\n",
       "</ol>\n"
      ],
      "text/latex": [
       "\\begin{enumerate}\n",
       "\\item 1\n",
       "\\end{enumerate}\n"
      ],
      "text/markdown": [
       "1. 1\n",
       "\n",
       "\n"
      ],
      "text/plain": [
       "[[1]]\n",
       "[1] 1\n"
      ]
     },
     "metadata": {},
     "output_type": "display_data"
    },
    {
     "data": {
      "text/html": [
       "<ol>\n",
       "\t<li>1</li>\n",
       "</ol>\n"
      ],
      "text/latex": [
       "\\begin{enumerate}\n",
       "\\item 1\n",
       "\\end{enumerate}\n"
      ],
      "text/markdown": [
       "1. 1\n",
       "\n",
       "\n"
      ],
      "text/plain": [
       "[[1]]\n",
       "[1] 1\n"
      ]
     },
     "metadata": {},
     "output_type": "display_data"
    },
    {
     "data": {
      "text/html": [
       "<ol>\n",
       "\t<li>1</li>\n",
       "</ol>\n"
      ],
      "text/latex": [
       "\\begin{enumerate}\n",
       "\\item 1\n",
       "\\end{enumerate}\n"
      ],
      "text/markdown": [
       "1. 1\n",
       "\n",
       "\n"
      ],
      "text/plain": [
       "[[1]]\n",
       "[1] 1\n"
      ]
     },
     "metadata": {},
     "output_type": "display_data"
    },
    {
     "data": {
      "text/html": [
       "<ol>\n",
       "\t<li>1</li>\n",
       "</ol>\n"
      ],
      "text/latex": [
       "\\begin{enumerate}\n",
       "\\item 1\n",
       "\\end{enumerate}\n"
      ],
      "text/markdown": [
       "1. 1\n",
       "\n",
       "\n"
      ],
      "text/plain": [
       "[[1]]\n",
       "[1] 1\n"
      ]
     },
     "metadata": {},
     "output_type": "display_data"
    },
    {
     "data": {
      "text/html": [
       "<ol>\n",
       "\t<li>1</li>\n",
       "</ol>\n"
      ],
      "text/latex": [
       "\\begin{enumerate}\n",
       "\\item 1\n",
       "\\end{enumerate}\n"
      ],
      "text/markdown": [
       "1. 1\n",
       "\n",
       "\n"
      ],
      "text/plain": [
       "[[1]]\n",
       "[1] 1\n"
      ]
     },
     "metadata": {},
     "output_type": "display_data"
    }
   ],
   "source": [
    "#Assign Weights to neighbours\n",
    "nbweights19 <- nb2listw(Sightings2019_DA_nb, style = \"W\", zero.policy = TRUE)\n",
    "nbweights20 <- nb2listw(Sightings2020_DA_nb, style = \"W\", zero.policy = TRUE)\n",
    "nbweights21 <- nb2listw(Sightings2021_DA_nb, style = \"W\", zero.policy = TRUE)\n",
    "nbweights22 <- nb2listw(Sightings2022_DA_nb, style = \"W\", zero.policy = TRUE)\n",
    "nbweights23 <- nb2listw(Sightings2023_DA_nb, style = \"W\", zero.policy = TRUE)\n",
    "\n",
    "nbweights19$weights[1]\n",
    "nbweights20$weights[1]\n",
    "nbweights21$weights[1]\n",
    "nbweights22$weights[1]\n",
    "nbweights23$weights[1]"
   ]
  },
  {
   "cell_type": "code",
   "execution_count": 44,
   "id": "1065d06a-060d-42e6-91b9-f01b6eacd744",
   "metadata": {},
   "outputs": [
    {
     "data": {
      "text/html": [
       "<strong>$I</strong> = 0.0819169263589923"
      ],
      "text/latex": [
       "\\textbf{\\$I} = 0.0819169263589923"
      ],
      "text/markdown": [
       "**$I** = 0.0819169263589923"
      ],
      "text/plain": [
       "$I\n",
       "[1] 0.08191693\n"
      ]
     },
     "metadata": {},
     "output_type": "display_data"
    },
    {
     "data": {
      "text/html": [
       "<strong>$I</strong> = 0.159837100308863"
      ],
      "text/latex": [
       "\\textbf{\\$I} = 0.159837100308863"
      ],
      "text/markdown": [
       "**$I** = 0.159837100308863"
      ],
      "text/plain": [
       "$I\n",
       "[1] 0.1598371\n"
      ]
     },
     "metadata": {},
     "output_type": "display_data"
    },
    {
     "data": {
      "text/html": [
       "<strong>$I</strong> = 0.228008669475938"
      ],
      "text/latex": [
       "\\textbf{\\$I} = 0.228008669475938"
      ],
      "text/markdown": [
       "**$I** = 0.228008669475938"
      ],
      "text/plain": [
       "$I\n",
       "[1] 0.2280087\n"
      ]
     },
     "metadata": {},
     "output_type": "display_data"
    },
    {
     "data": {
      "text/html": [
       "<strong>$I</strong> = 0.0706463833307145"
      ],
      "text/latex": [
       "\\textbf{\\$I} = 0.0706463833307145"
      ],
      "text/markdown": [
       "**$I** = 0.0706463833307145"
      ],
      "text/plain": [
       "$I\n",
       "[1] 0.07064638\n"
      ]
     },
     "metadata": {},
     "output_type": "display_data"
    },
    {
     "data": {
      "text/html": [
       "<strong>$I</strong> = 0.0702985768486105"
      ],
      "text/latex": [
       "\\textbf{\\$I} = 0.0702985768486105"
      ],
      "text/markdown": [
       "**$I** = 0.0702985768486105"
      ],
      "text/plain": [
       "$I\n",
       "[1] 0.07029858\n"
      ]
     },
     "metadata": {},
     "output_type": "display_data"
    }
   ],
   "source": [
    "#compute Moran's I stat\n",
    "I2019 <- moran(mergeData19$Sightings2019Count,nbweights19,length(Sightings2019_DA_nb),Szero(nbweights19))[1]\n",
    "I2019\n",
    "I2020 <- moran(mergeData20$Sightings2020Count,nbweights20,length(Sightings2020_DA_nb),Szero(nbweights20))[1]\n",
    "I2020\n",
    "I2021 <- moran(mergeData21$Sightings2021Count,nbweights21,length(Sightings2021_DA_nb),Szero(nbweights21))[1]\n",
    "I2021\n",
    "I2022 <- moran(mergeData22$Sightings2022Count,nbweights22,length(Sightings2022_DA_nb),Szero(nbweights22))[1]\n",
    "I2022\n",
    "I2023 <- moran(mergeData23$Sightings2023Count,nbweights23,length(Sightings2023_DA_nb),Szero(nbweights23))[1]\n",
    "I2023"
   ]
  },
  {
   "cell_type": "markdown",
   "id": "fc283eec-8040-4c36-80bb-3b6e33f99622",
   "metadata": {
    "jp-MarkdownHeadingCollapsed": true
   },
   "source": [
    "### Results\n",
    "\n",
    "Based on the calculated Moran's I values, it can be said that from 2019 - 2023 there is little to no spatial autocorrelation between the coyote sightings. The data collected by the York Region news site is through user reports and submissions. Therefore, the data would be focused more around communities where public participation is high. An improvement to the York Region News' method of collecting data would be to implement ArcGIS Survey123. The ArcGIS Survey123 application allows for the development of a web application which lets users easily report location based information in the form of a questionnare. Furthermore, the use of ArcGIS will also allow for the creation of information dashboards that can relay deeper insights on the status of Coyote Sightings, nesting seasons, and other visualizations that may assist the public."
   ]
  }
 ],
 "metadata": {
  "kernelspec": {
   "display_name": "R",
   "language": "R",
   "name": "ir"
  },
  "language_info": {
   "codemirror_mode": "r",
   "file_extension": ".r",
   "mimetype": "text/x-r-source",
   "name": "R",
   "pygments_lexer": "r",
   "version": "4.1.2"
  }
 },
 "nbformat": 4,
 "nbformat_minor": 5
}
